{
  "nbformat": 4,
  "nbformat_minor": 0,
  "metadata": {
    "colab": {
      "name": "Proyecto_Mate_Discretas_II.ipynb",
      "provenance": [],
      "include_colab_link": true
    },
    "kernelspec": {
      "name": "python3",
      "display_name": "Python 3"
    }
  },
  "cells": [
    {
      "cell_type": "markdown",
      "metadata": {
        "id": "view-in-github",
        "colab_type": "text"
      },
      "source": [
        "<a href=\"https://colab.research.google.com/github/Mighoet/MateDiscretasII/blob/main/Proyecto_Mate_Discretas_II.ipynb\" target=\"_parent\"><img src=\"https://colab.research.google.com/assets/colab-badge.svg\" alt=\"Open In Colab\"/></a>"
      ]
    },
    {
      "cell_type": "markdown",
      "metadata": {
        "id": "vVOU-O4hemQM"
      },
      "source": [
        "### **Entrega 2 Proyecto Matemáticas Discretas II**"
      ]
    },
    {
      "cell_type": "markdown",
      "metadata": {
        "id": "A9DPh2fvewiJ"
      },
      "source": [
        "### **Camilo Andres Rico  y   Miguel Currea**"
      ]
    },
    {
      "cell_type": "markdown",
      "metadata": {
        "id": "Yjiy3CgcfHcp"
      },
      "source": [
        "Haciendo uso del test de primalidad de Miller Rabin se impleneta la siguiente funcion la cual se necesitara para genrar dos nuemros primos parte le algoritmo de RSA:"
      ]
    },
    {
      "cell_type": "code",
      "metadata": {
        "id": "QGg9Sw9kel1q"
      },
      "source": [
        "import random\n",
        "def miller_rabin(n):\n",
        "    k=40\n",
        "    if n == 2:\n",
        "        return n\n",
        "    if n == 3:\n",
        "        return n   \n",
        "    if n == 1:\n",
        "        return n    \n",
        "\n",
        "    if n % 2 == 0:\n",
        "        return False\n",
        "\n",
        "    r, s = 0, n - 1\n",
        "    while s % 2 == 0:\n",
        "        r += 1\n",
        "        s //= 2\n",
        "    for _ in range(k):\n",
        "        a = random.randrange(2, n - 1)\n",
        "        x = pow(a, s, n)\n",
        "        if x == 1 or x == n - 1:\n",
        "            continue\n",
        "        for _ in range(r - 1):\n",
        "            x = pow(x, 2, n)\n",
        "            if x == n - 1:\n",
        "                break\n",
        "        else:\n",
        "            return False\n",
        "    return n"
      ],
      "execution_count": null,
      "outputs": []
    },
    {
      "cell_type": "markdown",
      "metadata": {
        "id": "psua4eVSfZck"
      },
      "source": [
        "Seleccionar los dos primos p y q:"
      ]
    },
    {
      "cell_type": "code",
      "metadata": {
        "colab": {
          "base_uri": "https://localhost:8080/"
        },
        "id": "ITFMPEjpfnUg",
        "outputId": "d898ac6d-709a-45ce-940c-52a8e8637ad4"
      },
      "source": [
        "primos=[]\n",
        "for i in range (0,1000):\n",
        "  if miller_rabin(i):\n",
        "    primos.append(i)\n",
        "\n",
        "p=primos[random.randrange(0, len(primos))]\n",
        "q=primos[random.randrange(0, len(primos))]\n",
        "\n",
        "print(\"p=\",p,\"q=\",q)\n",
        "n=p*q\n",
        "print(\"n=\",n)\n"
      ],
      "execution_count": null,
      "outputs": [
        {
          "output_type": "stream",
          "text": [
            "p= 809 q= 229\n",
            "n= 185261\n"
          ],
          "name": "stdout"
        }
      ]
    },
    {
      "cell_type": "markdown",
      "metadata": {
        "id": "VY1UuZG3h0Dl"
      },
      "source": [
        "Calculamos **S** haciendo uso de la **función phi de Euler**"
      ]
    },
    {
      "cell_type": "code",
      "metadata": {
        "colab": {
          "base_uri": "https://localhost:8080/"
        },
        "id": "ydY3MsL5hILk",
        "outputId": "bf893b16-a55b-44f0-979b-8d2d235e20f7"
      },
      "source": [
        "s=(p-1)*(q-1)\n",
        "print(\"s=\",s)"
      ],
      "execution_count": null,
      "outputs": [
        {
          "output_type": "stream",
          "text": [
            "s= 184224\n"
          ],
          "name": "stdout"
        }
      ]
    },
    {
      "cell_type": "markdown",
      "metadata": {
        "id": "Jn6WKGLdi1QL"
      },
      "source": [
        "Seleccionamos K, un nuemro entre 1 y s que sea coprimo con S utilizando el algoritmos de euclides"
      ]
    },
    {
      "cell_type": "code",
      "metadata": {
        "colab": {
          "base_uri": "https://localhost:8080/"
        },
        "id": "XLTfhTuJjDIa",
        "outputId": "9dfa731b-d68e-471d-9c30-99e5f02c56f6"
      },
      "source": [
        "print(\"Usando el algoritmo de Euclides hayamos K\")\n",
        "\n",
        "def compute_hcf(x, y):\n",
        "    if x > y:\n",
        "        smaller = y\n",
        "    else:\n",
        "        smaller = x\n",
        "    while(y):\n",
        "       x, y = y, x % y\n",
        "    return x \n",
        "coprimo = False\n",
        "while (coprimo==False):\n",
        "  k=random.randrange(2, s)\n",
        "  x=compute_hcf(s, k)\n",
        "  if x == 1:\n",
        "    coprimo = True\n",
        "print(\"K=\",k) \n",
        "\n",
        "\n",
        "print(\"Clave publica= (\",n,\",\",k,\")\")"
      ],
      "execution_count": null,
      "outputs": [
        {
          "output_type": "stream",
          "text": [
            "Usando el algoritmo de Euclides hayamos K\n",
            "K= 111943\n",
            "Clave publica= ( 185261 , 111943 )\n"
          ],
          "name": "stdout"
        }
      ]
    },
    {
      "cell_type": "markdown",
      "metadata": {
        "id": "0wI8LFmEmjJI"
      },
      "source": [
        "La aritmética modular nos dice que existe un único número ***j*** entre 1 y ***s*** para el cual el producto ***jk*** deja un resto 1 en la división entre ***s***. Calculamos j, es decir la clave privada."
      ]
    },
    {
      "cell_type": "code",
      "metadata": {
        "colab": {
          "base_uri": "https://localhost:8080/"
        },
        "id": "bR8WP2lIm_3U",
        "outputId": "c9c955c6-1fd6-46e2-b55a-548cff14bb98"
      },
      "source": [
        "congruente = False\n",
        "j=n\n",
        "while (congruente==False):\n",
        "  j-=1\n",
        "  if (j*k)%s == 1:\n",
        "    congruente = True\n",
        "print(\"j=\",j)\n",
        "print(\"clave privada=\",j)\n"
      ],
      "execution_count": null,
      "outputs": [
        {
          "output_type": "stream",
          "text": [
            "j= 80119\n",
            "clave privada= 80119\n"
          ],
          "name": "stdout"
        }
      ]
    },
    {
      "cell_type": "markdown",
      "metadata": {
        "id": "sasW6sQrpqIo"
      },
      "source": [
        "Encriptar mensaje"
      ]
    },
    {
      "cell_type": "code",
      "metadata": {
        "colab": {
          "base_uri": "https://localhost:8080/"
        },
        "id": "AEmzwExjppFL",
        "outputId": "9aff70cc-0ab3-47f3-f29f-9e93e88e19ae"
      },
      "source": [
        "mensaje = 6000\n",
        "if (mensaje<n):\n",
        "  print(\"mensaje a encriptar\" ,mensaje)\n",
        "  mensaje_encriptado=(mensaje**k)%n\n",
        "  print(\"mensaje a encriptado\", mensaje_encriptado)\n",
        "  desencriptar=True\n",
        "else:\n",
        "  desencriptar=False\n",
        "  print(\"El mensaje es demasido largo para encriptarse  mensaje es mas largo que n\") "
      ],
      "execution_count": null,
      "outputs": [
        {
          "output_type": "stream",
          "text": [
            "mensaje a encriptar 6000\n",
            "mensaje a encriptado 139151\n"
          ],
          "name": "stdout"
        }
      ]
    },
    {
      "cell_type": "markdown",
      "metadata": {
        "id": "51_HRg7TrZCw"
      },
      "source": [
        "Desencriptar mensaje"
      ]
    },
    {
      "cell_type": "code",
      "metadata": {
        "colab": {
          "base_uri": "https://localhost:8080/"
        },
        "id": "gbkhaf_drYRp",
        "outputId": "e8006393-64c4-43a7-f0da-1ad6b893af71"
      },
      "source": [
        "if desencriptar == True:\n",
        "  mensaje_desencriptado=(mensaje_encriptado**j)%n\n",
        "  print(\"mensaje a desencriptado\",mensaje_desencriptado)"
      ],
      "execution_count": null,
      "outputs": [
        {
          "output_type": "stream",
          "text": [
            "mensaje a desencriptado 6000\n"
          ],
          "name": "stdout"
        }
      ]
    },
    {
      "cell_type": "markdown",
      "metadata": {
        "id": "Tb3F97TrNm7x"
      },
      "source": [
        "### Resultados"
      ]
    },
    {
      "cell_type": "code",
      "metadata": {
        "id": "2NIjbx52PFDH"
      },
      "source": [
        "Resultados = []"
      ],
      "execution_count": null,
      "outputs": []
    },
    {
      "cell_type": "code",
      "metadata": {
        "id": "VTVgMBTHRJN1"
      },
      "source": [
        "Resultados.append((p,q,n,s,k,j,mensaje, mensaje_encriptado, mensaje_desencriptado))"
      ],
      "execution_count": null,
      "outputs": []
    },
    {
      "cell_type": "code",
      "metadata": {
        "colab": {
          "base_uri": "https://localhost:8080/"
        },
        "id": "udyHkFh4NhDm",
        "outputId": "00d3a2d1-bc41-4f8c-9d89-865d7c3ba1ab"
      },
      "source": [
        "for i in range(len(Resultados)):\n",
        "  print(i+1,\"(p,q,s,clave privada)=(\",Resultados[i][0],\",\",Resultados[i][1],\",\",Resultados[i][3],\",\",Resultados[i][5],\")\", \"      Clave publica=(\", Resultados[i][2],\",\",Resultados[i][4],\")\", \"                  Mensaje=\",Resultados[i][6],\"   Mensaje Encriptado=\",Resultados[i][7],\"   Mensaje Desencriptado=\",Resultados[i][8])"
      ],
      "execution_count": null,
      "outputs": [
        {
          "output_type": "stream",
          "text": [
            "1 (p,q,s,clave privada)=( 17 , 419 , 6688 , 1215 )       Clave publica=( 7123 , 4255 )                   Mensaje= 6000    Mensaje Encriptado= 2787    Mensaje Desencriptado= 6000\n",
            "2 (p,q,s,clave privada)=( 631 , 929 , 584640 , 179761 )       Clave publica=( 586199 , 344401 )                   Mensaje= 6000    Mensaje Encriptado= 501966    Mensaje Desencriptado= 6000\n",
            "3 (p,q,s,clave privada)=( 809 , 229 , 184224 , 80119 )       Clave publica=( 185261 , 111943 )                   Mensaje= 6000    Mensaje Encriptado= 139151    Mensaje Desencriptado= 6000\n"
          ],
          "name": "stdout"
        }
      ]
    }
  ]
}